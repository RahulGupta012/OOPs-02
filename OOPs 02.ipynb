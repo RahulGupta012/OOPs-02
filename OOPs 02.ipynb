{
 "cells": [
  {
   "cell_type": "markdown",
   "metadata": {},
   "source": [
    "Q1. Explain Class and Object with respect to Object-Oriented Programming. Give a suitable example.\n",
    "\n"
   ]
  },
  {
   "cell_type": "markdown",
   "metadata": {},
   "source": [
    "In Object Oriented Programming(OOPs), The class is a criteria or defination for creating the objects.for example: there is a wall of red color and square design, so these red color and square design are the defination of the class and for using these criteria we can make the classes wall1, wall2 , wall3.....which has red colored and square design.We use the class keyword to create a class in Python.For object we can say in a line- An object is called an instance of a class. Example:"
   ]
  },
  {
   "cell_type": "code",
   "execution_count": 21,
   "metadata": {},
   "outputs": [],
   "source": [
    "class wall:\n",
    "    #in a class wall there are two objects wall1 and wall2\n",
    "    wall1= \"\"\n",
    "    wall2=\"\""
   ]
  },
  {
   "cell_type": "markdown",
   "metadata": {},
   "source": [
    "Q2. Name the four pillars of OOPs."
   ]
  },
  {
   "cell_type": "markdown",
   "metadata": {},
   "source": [
    "Object Oriented Programming makes the data managed and decrease the memory consumption by the helps of which the code become flexible and modular. There are four main component of OOPs programming:\n",
    "1. Polymorphism : \n",
    "\n",
    "It is a feature that provides a function or an operator with more than one definition. It can be implemented using overloading.\n",
    "\n",
    "2. Encapsulation\n",
    "\n",
    "Encapsulation is used for binding the data together and hieding it from user.\n",
    "\n",
    "3. Inheritance\n",
    "\n",
    "It is used for transfer the property of one class to another class, it is called 'Multi level inheritance' and binding two or more classes together, so the user get the accessibilty of it,which is called 'Multiple inheritance'. \n",
    "\n",
    "4. Abstraction\n",
    " \n",
    "It is using for making a blueprint of a code.\n"
   ]
  },
  {
   "cell_type": "markdown",
   "metadata": {},
   "source": [
    "Q3. Explain why the __init__() (double under-score both side of init)function is used. Give a suitable example."
   ]
  },
  {
   "cell_type": "markdown",
   "metadata": {},
   "source": [
    "In Python, __init__ is a special method known as the constructor. It is automatically called when a new instance (object) of a class is created. The __init__ method allows you to initialize the attributes (variables) of an object. Example:\n"
   ]
  },
  {
   "cell_type": "code",
   "execution_count": 22,
   "metadata": {},
   "outputs": [],
   "source": [
    "class food:\n",
    "\n",
    "    def __init__(self, Roti, Sabzi):\n",
    "        self.Roti=Roti\n",
    "        self.Sabzi=Sabzi\n",
    "\n",
    "    def food_details (self):\n",
    "     return self.Roti,self.Sabzi"
   ]
  },
  {
   "cell_type": "code",
   "execution_count": 23,
   "metadata": {},
   "outputs": [],
   "source": [
    "#creating the object\n",
    "obj=food(\"rumali\",\"paneer\")"
   ]
  },
  {
   "cell_type": "code",
   "execution_count": 24,
   "metadata": {},
   "outputs": [
    {
     "data": {
      "text/plain": [
       "('rumali', 'paneer')"
      ]
     },
     "execution_count": 24,
     "metadata": {},
     "output_type": "execute_result"
    }
   ],
   "source": [
    "#calling return function by object\n",
    "obj.food_details()"
   ]
  },
  {
   "cell_type": "markdown",
   "metadata": {},
   "source": [
    "Q4. Why self is used in OOPs?"
   ]
  },
  {
   "cell_type": "markdown",
   "metadata": {},
   "source": [
    "In Object Oriented Programming self is just represented the class and by using it we can access and method of class. In some other programming languages there are @syntax to refer the instance attributes but in the case of python we use  'self' for it."
   ]
  },
  {
   "cell_type": "markdown",
   "metadata": {},
   "source": [
    "Q5. What is inheritance? Give an example for each type of inheritance."
   ]
  },
  {
   "cell_type": "markdown",
   "metadata": {},
   "source": [
    "By using inheritance we can transfer the property of one class to another class.There are two types of inheritance:\n",
    "\n",
    "1.Multi level inheritance\n",
    "2.Multiple inheritance\n",
    "\n"
   ]
  },
  {
   "cell_type": "markdown",
   "metadata": {},
   "source": [
    "\n",
    "\n",
    "\n",
    "\n",
    "\n",
    "Multi level inheritance:\n",
    "In such type of inheritance, we make a parent class and child class and from the another third class,we can access the both parent and child class methods."
   ]
  },
  {
   "cell_type": "code",
   "execution_count": 30,
   "metadata": {},
   "outputs": [],
   "source": [
    "class parent_class:\n",
    "    def parent_details(self):\n",
    "        print ('They are my parents')"
   ]
  },
  {
   "cell_type": "code",
   "execution_count": 31,
   "metadata": {},
   "outputs": [],
   "source": [
    "class child_class(parent_class):\n",
    "    def child_details(self):\n",
    "        print(\"They are my childs\")\n"
   ]
  },
  {
   "cell_type": "code",
   "execution_count": 32,
   "metadata": {},
   "outputs": [],
   "source": [
    "class inheritance_class(child_class):\n",
    "    pass"
   ]
  },
  {
   "cell_type": "code",
   "execution_count": 33,
   "metadata": {},
   "outputs": [],
   "source": [
    "obj1=inheritance_class()"
   ]
  },
  {
   "cell_type": "code",
   "execution_count": 34,
   "metadata": {},
   "outputs": [
    {
     "name": "stdout",
     "output_type": "stream",
     "text": [
      "They are my childs\n"
     ]
    }
   ],
   "source": [
    "#accessing the child class \n",
    "obj1.child_details()"
   ]
  },
  {
   "cell_type": "code",
   "execution_count": 37,
   "metadata": {},
   "outputs": [
    {
     "name": "stdout",
     "output_type": "stream",
     "text": [
      "They are my parents\n"
     ]
    }
   ],
   "source": [
    "#accessing the parent class\n",
    "\n",
    "obj1.parent_details()"
   ]
  },
  {
   "cell_type": "markdown",
   "metadata": {},
   "source": [
    "Multiple inheritance:\n",
    "\n",
    "it is used to bind two or more classes and givind the authory to accesses the method of these classes by a sperate class."
   ]
  },
  {
   "cell_type": "code",
   "execution_count": 39,
   "metadata": {},
   "outputs": [],
   "source": [
    "class class1():\n",
    "    def class1_details(self):\n",
    "        print(\"it is class 1\")"
   ]
  },
  {
   "cell_type": "code",
   "execution_count": 40,
   "metadata": {},
   "outputs": [],
   "source": [
    "class class2():\n",
    "    def class2_details(self):\n",
    "        print(\"it is class 2\")"
   ]
  },
  {
   "cell_type": "code",
   "execution_count": 41,
   "metadata": {},
   "outputs": [],
   "source": [
    "class multiple_inheritance_class(class1,class2):\n",
    "  pass"
   ]
  },
  {
   "cell_type": "code",
   "execution_count": 42,
   "metadata": {},
   "outputs": [],
   "source": [
    "obj2= multiple_inheritance_class()"
   ]
  },
  {
   "cell_type": "code",
   "execution_count": 43,
   "metadata": {},
   "outputs": [
    {
     "name": "stdout",
     "output_type": "stream",
     "text": [
      "it is class 2\n"
     ]
    }
   ],
   "source": [
    "obj2.class2_details()"
   ]
  },
  {
   "cell_type": "code",
   "execution_count": 44,
   "metadata": {},
   "outputs": [
    {
     "name": "stdout",
     "output_type": "stream",
     "text": [
      "it is class 1\n"
     ]
    }
   ],
   "source": [
    "obj2.class1_details()"
   ]
  },
  {
   "cell_type": "code",
   "execution_count": null,
   "metadata": {},
   "outputs": [],
   "source": []
  }
 ],
 "metadata": {
  "kernelspec": {
   "display_name": "Python 3",
   "language": "python",
   "name": "python3"
  },
  "language_info": {
   "codemirror_mode": {
    "name": "ipython",
    "version": 3
   },
   "file_extension": ".py",
   "mimetype": "text/x-python",
   "name": "python",
   "nbconvert_exporter": "python",
   "pygments_lexer": "ipython3",
   "version": "3.11.4"
  },
  "orig_nbformat": 4
 },
 "nbformat": 4,
 "nbformat_minor": 2
}
